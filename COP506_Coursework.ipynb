{
  "nbformat": 4,
  "nbformat_minor": 0,
  "metadata": {
    "colab": {
      "provenance": [],
      "collapsed_sections": []
    },
    "kernelspec": {
      "name": "python3",
      "display_name": "Python 3"
    },
    "language_info": {
      "name": "python"
    }
  },
  "cells": [
    {
      "cell_type": "markdown",
      "metadata": {
        "id": "oMrOF65MGuUN"
      },
      "source": [
        "# Simple ML Tutorial\n",
        "\n",
        "Hi, in this tutorial, I will introduce you to two of the most important AI Libraries i.e Scipy and Matplotlib. The tutorial is smooth and easy to follow, we will go step by step"
      ]
    },
    {
      "cell_type": "markdown",
      "metadata": {
        "id": "HoHTyuR_ScRR"
      },
      "source": [
        "* While making ML programs, one sometimes need to change the units depending on the input and the output requirements. We will make a couple of examples of conversion using SciPy.\n",
        "\n",
        "\n",
        "\n",
        "\n",
        "\n",
        "\n"
      ]
    },
    {
      "cell_type": "markdown",
      "metadata": {
        "id": "kMu9f5fesaX5"
      },
      "source": [
        "* We will also start using the Matplotlib plotting functions to learn printing different kinds of graphs"
      ]
    },
    {
      "cell_type": "markdown",
      "metadata": {
        "id": "shpc0Ygo5nh1"
      },
      "source": [
        "# Conversion of Distance"
      ]
    },
    {
      "cell_type": "markdown",
      "source": [
        "first we will import the unit we need from the Scipy library and make a basic example of converting metres into kilometres."
      ],
      "metadata": {
        "id": "PTxe_MwYSd8O"
      }
    },
    {
      "cell_type": "code",
      "metadata": {
        "colab": {
          "base_uri": "https://localhost:8080/"
        },
        "id": "ERZKPjMSr3lR",
        "outputId": "4d9d7d58-9958-4603-a61f-2b09b092f4a8"
      },
      "source": [
        "from scipy.constants import kilo\n",
        "meters = 700\n",
        "print(f\"Distance: {meters / kilo} Km\")"
      ],
      "execution_count": null,
      "outputs": [
        {
          "output_type": "stream",
          "name": "stdout",
          "text": [
            "Distance: 0.7 Km\n"
          ]
        }
      ]
    },
    {
      "cell_type": "markdown",
      "metadata": {
        "id": "unwOEaAq5x1V"
      },
      "source": [
        "# Conversion of Temperature"
      ]
    },
    {
      "cell_type": "code",
      "metadata": {
        "colab": {
          "base_uri": "https://localhost:8080/"
        },
        "id": "2ggGfFWODxny",
        "outputId": "892ad4f3-3d86-4861-fafc-87bf082125fa"
      },
      "source": [
        "# Conversion of Temperature, example 1\n",
        "from scipy.constants import convert_temperature\n",
        "FahrenheitTemp = 54\n",
        "#this function converts from Fahrenheit to Celsius\n",
        "CelsiusTemp = convert_temperature(FahrenheitTemp, \"F\", \"C\")\n",
        "print(f\"Temperature in celsius: {CelsiusTemp}\")\n"
      ],
      "execution_count": null,
      "outputs": [
        {
          "output_type": "stream",
          "name": "stdout",
          "text": [
            "Temperature in celsius: 12.222222222222229\n"
          ]
        }
      ]
    },
    {
      "cell_type": "code",
      "metadata": {
        "colab": {
          "base_uri": "https://localhost:8080/"
        },
        "id": "OZU2OZLq3k95",
        "outputId": "0bad2183-c184-4298-b869-a1888cc95596"
      },
      "source": [
        "# Conversion of Temperature, example 2\n",
        "from scipy.constants import convert_temperature\n",
        "CelsiusTemp = 12\n",
        "#this function converts from Celsius to Kelvin\n",
        "KelvinTemp = convert_temperature(CelsiusTemp, \"C\", \"K\")\n",
        "print(f\"Temperature in Kelvin: {KelvinTemp}\")\n"
      ],
      "execution_count": null,
      "outputs": [
        {
          "output_type": "stream",
          "name": "stdout",
          "text": [
            "Temperature in Kelvin: 285.15\n"
          ]
        }
      ]
    },
    {
      "cell_type": "markdown",
      "metadata": {
        "id": "FZuNwT2ZSx7d"
      },
      "source": [
        "#Matplotlib"
      ]
    },
    {
      "cell_type": "code",
      "metadata": {
        "id": "A_biTlpaSavy"
      },
      "source": [
        "#now we will install the matpltlib Library\n",
        "pip install matplotlib"
      ],
      "execution_count": null,
      "outputs": []
    },
    {
      "cell_type": "code",
      "metadata": {
        "id": "9vujk21lTIRB"
      },
      "source": [
        "#and we will import it to start using it :)\n",
        "import matplotlib.pyplot as plt\n",
        "import numpy as np"
      ],
      "execution_count": null,
      "outputs": []
    },
    {
      "cell_type": "code",
      "metadata": {
        "colab": {
          "base_uri": "https://localhost:8080/"
        },
        "id": "II_-uJx1jxb-",
        "outputId": "652387df-78fb-4a65-e865-e1a0d09d09a8"
      },
      "source": [
        "#let's start defining our x-axis range, I choose 20, but you may choose whatever number you want\n",
        "x = [i for i in range(20)]\n",
        "print(x)"
      ],
      "execution_count": null,
      "outputs": [
        {
          "output_type": "stream",
          "name": "stdout",
          "text": [
            "[0, 1, 2, 3, 4, 5, 6, 7, 8, 9, 10, 11, 12, 13, 14, 15, 16, 17, 18, 19]\n"
          ]
        }
      ]
    },
    {
      "cell_type": "code",
      "metadata": {
        "colab": {
          "base_uri": "https://localhost:8080/"
        },
        "id": "wCJa_PS5kG-3",
        "outputId": "a0cc5da1-1533-46f7-d601-b808d624006f"
      },
      "source": [
        "#let's define our y-axis range, it must be the same as x-axis range\n",
        "# I choose the step here to be 3, made by 3*i, again you may choose whatever step you'd like\n",
        "y = [3*i for i in range(20)]\n",
        "print(y)"
      ],
      "execution_count": null,
      "outputs": [
        {
          "output_type": "stream",
          "name": "stdout",
          "text": [
            "[0, 3, 6, 9, 12, 15, 18, 21, 24, 27, 30, 33, 36, 39, 42, 45, 48, 51, 54, 57]\n"
          ]
        }
      ]
    },
    {
      "cell_type": "code",
      "metadata": {
        "colab": {
          "base_uri": "https://localhost:8080/",
          "height": 282
        },
        "id": "2fTSHnAFkGwr",
        "outputId": "8ca083a3-c496-4333-f6a7-d3536702aafa"
      },
      "source": [
        "#Lastly let's plot our graph\n",
        "plt.plot(x,y)"
      ],
      "execution_count": null,
      "outputs": [
        {
          "output_type": "execute_result",
          "data": {
            "text/plain": [
              "[<matplotlib.lines.Line2D at 0x7f80da4fa650>]"
            ]
          },
          "metadata": {},
          "execution_count": 25
        },
        {
          "output_type": "display_data",
          "data": {
            "image/png": "[encoded data removed]",
            "text/plain": [
              "<Figure size 432x288 with 1 Axes>"
            ]
          },
          "metadata": {
            "needs_background": "light"
          }
        }
      ]
    },
    {
      "cell_type": "code",
      "metadata": {
        "colab": {
          "base_uri": "https://localhost:8080/",
          "height": 296
        },
        "id": "ilrw9SiKoGEo",
        "outputId": "5498e0c2-5538-46c4-c6f5-0ca7a90bcadc"
      },
      "source": [
        "#And now let's make the graph even clearer by adding labels to our axes\n",
        "plt.xlabel('time')\n",
        "plt.ylabel('speed')\n",
        "plt.plot(x,y)"
      ],
      "execution_count": null,
      "outputs": [
        {
          "output_type": "execute_result",
          "data": {
            "text/plain": [
              "[<matplotlib.lines.Line2D at 0x7f80da461fd0>]"
            ]
          },
          "metadata": {},
          "execution_count": 26
        },
        {
          "output_type": "display_data",
          "data": {
            "image/png": "[encoded data removed]",
            "text/plain": [
              "<Figure size 432x288 with 1 Axes>"
            ]
          },
          "metadata": {
            "needs_background": "light"
          }
        }
      ]
    },
    {
      "cell_type": "code",
      "metadata": {
        "colab": {
          "base_uri": "https://localhost:8080/",
          "height": 296
        },
        "id": "FP4yiC0d4Z4o",
        "outputId": "14333181-91c3-43ad-eacd-3c705dd356dd"
      },
      "source": [
        "#One can also make a scatter plot of the same axes\n",
        "plt.xlabel('time')\n",
        "plt.ylabel('speed')\n",
        "plt.scatter(x,y)"
      ],
      "execution_count": null,
      "outputs": [
        {
          "output_type": "execute_result",
          "data": {
            "text/plain": [
              "<matplotlib.collections.PathCollection at 0x7f80da586910>"
            ]
          },
          "metadata": {},
          "execution_count": 27
        },
        {
          "output_type": "display_data",
          "data": {
            "image/png": "[encoded data removed]",
            "text/plain": [
              "<Figure size 432x288 with 1 Axes>"
            ]
          },
          "metadata": {
            "needs_background": "light"
          }
        }
      ]
    }
  ]
}